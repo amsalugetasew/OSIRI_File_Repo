{
  "cells": [
    {
      "cell_type": "markdown",
      "metadata": {
        "id": "view-in-github",
        "colab_type": "text"
      },
      "source": [
        "<a href=\"https://colab.research.google.com/github/amsalugetasew/OSIRI_File_Repo/blob/main/Assignment_week_1_session_2_and_3_Getasew.ipynb\" target=\"_parent\"><img src=\"https://colab.research.google.com/assets/colab-badge.svg\" alt=\"Open In Colab\"/></a>"
      ]
    },
    {
      "cell_type": "markdown",
      "id": "fd747a69-0931-43ed-9be1-8a60b5805b64",
      "metadata": {
        "id": "fd747a69-0931-43ed-9be1-8a60b5805b64"
      },
      "source": [
        "# Take home assignment week 1 session 2\n",
        "1. **Variables:**\n",
        "   - Create three variables store a float, an integer, and a string sentence the word \"Ghana\" in there\n",
        "   - Join or concatenate the variables to form a meaningful sentences and store it in a variable called \"sentence_1\"\n",
        "   - Replace the word \"Ghana\" with any country of your choice\n",
        "   - Split the sentence on the spaces and print the 5th and last words\n"
      ]
    },
    {
      "cell_type": "code",
      "source": [
        "var1 = 21.0\n",
        "var2 = 21\n",
        "var3 = \"Ghana\"\n",
        "# print(var1, var2, var3)\n",
        "sentence_1 = f\"The float number is {var1} , an integer number is {var2} , and this is a string: {var3}\"\n",
        "# print(sentence_1)\n",
        "sentence_1 = sentence_1.replace(\"Ghana\", \"Ethipia\")\n",
        "# sentence_1"
      ],
      "metadata": {
        "id": "vg3Y8KGiAUwh"
      },
      "id": "vg3Y8KGiAUwh",
      "execution_count": 17,
      "outputs": []
    },
    {
      "cell_type": "code",
      "source": [
        "sub_word = sentence_1.split()\n",
        "if len(sub_word) >= 5:\n",
        "    print(\"5th word:\", sub_word[4])\n",
        "    print(\"Last word:\", sub_word[-1])"
      ],
      "metadata": {
        "colab": {
          "base_uri": "https://localhost:8080/"
        },
        "id": "HSHTEyMvCrTI",
        "outputId": "8b397c8d-7df0-42c0-fb58-51789a1df102"
      },
      "id": "HSHTEyMvCrTI",
      "execution_count": 19,
      "outputs": [
        {
          "output_type": "stream",
          "name": "stdout",
          "text": [
            "5th word: 21.0\n",
            "Last word: Ethipia\n"
          ]
        }
      ]
    },
    {
      "cell_type": "markdown",
      "source": [
        "# **1. Creating a list:**\n",
        "1.   Create a list of 5 fruits and print it.\n",
        "2.   Create a list of even numbers from 20 to 40 using a list comprehension."
      ],
      "metadata": {
        "id": "IVe0onNFEEvf"
      },
      "id": "IVe0onNFEEvf"
    },
    {
      "cell_type": "code",
      "source": [
        "list_of_fruites = ['Apple','Avocado','Banana', 'Mango', 'Orange']\n",
        "print(list_of_fruites)\n",
        "# OR\n",
        "for f in list_of_fruites:\n",
        "  print(f)"
      ],
      "metadata": {
        "colab": {
          "base_uri": "https://localhost:8080/"
        },
        "id": "ql47ZY_VEb1j",
        "outputId": "9fb1a461-8e27-49cf-b10e-f22e1d81a1fa"
      },
      "id": "ql47ZY_VEb1j",
      "execution_count": 22,
      "outputs": [
        {
          "output_type": "stream",
          "name": "stdout",
          "text": [
            "['Apple', 'Avocado', 'Banana', 'Mango', 'Orange']\n",
            "Apple\n",
            "Avocado\n",
            "Banana\n",
            "Mango\n",
            "Orange\n"
          ]
        }
      ]
    },
    {
      "cell_type": "code",
      "source": [
        "list_of_even_nums =[i for i in range(20, 40) if i % 2 == 0]\n",
        "print(list_of_even_nums)\n",
        "# OR\n",
        "for i in list_of_even_nums:\n",
        "  print(i)"
      ],
      "metadata": {
        "colab": {
          "base_uri": "https://localhost:8080/"
        },
        "id": "JYneiwjBE-gz",
        "outputId": "5b99de91-17b1-46a5-b5f4-dd0ec01c8d85"
      },
      "id": "JYneiwjBE-gz",
      "execution_count": 26,
      "outputs": [
        {
          "output_type": "stream",
          "name": "stdout",
          "text": [
            "[20, 22, 24, 26, 28, 30, 32, 34, 36, 38]\n",
            "20\n",
            "22\n",
            "24\n",
            "26\n",
            "28\n",
            "30\n",
            "32\n",
            "34\n",
            "36\n",
            "38\n"
          ]
        }
      ]
    },
    {
      "cell_type": "markdown",
      "source": [
        "2. **Accessing elements:**\n",
        "    1.   Access and print the third fruit in the list.\n",
        "    2.   Print the first and last elements of the list."
      ],
      "metadata": {
        "id": "gc3e33FBGKjx"
      },
      "id": "gc3e33FBGKjx"
    },
    {
      "cell_type": "code",
      "source": [
        "print(\"Third Element of Fruit is: \", list_of_fruites[2])\n",
        "print(f'Firs element of Fruit is:  {list_of_fruites[0]} and last elements of the Fruit is: {list_of_fruites[-1]}')"
      ],
      "metadata": {
        "colab": {
          "base_uri": "https://localhost:8080/"
        },
        "id": "Cf8TOvRpGJC0",
        "outputId": "05b2f0ef-c884-46ec-f3e0-5dfef5870624"
      },
      "id": "Cf8TOvRpGJC0",
      "execution_count": 31,
      "outputs": [
        {
          "output_type": "stream",
          "name": "stdout",
          "text": [
            "Third Element of Fruit is:  Banana\n",
            "Firs element of Fruit is:  Apple and last elements of the Fruit is: Orange\n"
          ]
        }
      ]
    },
    {
      "cell_type": "markdown",
      "source": [
        "3. **Modifying elements:**\n",
        "   - Change the second fruit in the list to a different fruit.\n",
        "   - Add a new fruit to the end of the list."
      ],
      "metadata": {
        "id": "ApPgDZzrHRsS"
      },
      "id": "ApPgDZzrHRsS"
    },
    {
      "cell_type": "code",
      "source": [
        "list_of_fruites[1] = 'Papaya'\n",
        "list_of_fruites.append('Kiwi')\n",
        "print(list_of_fruites)"
      ],
      "metadata": {
        "colab": {
          "base_uri": "https://localhost:8080/"
        },
        "id": "HwhK1XhSHXrh",
        "outputId": "76e1958c-954a-459f-e93c-9fcc01a05a96"
      },
      "id": "HwhK1XhSHXrh",
      "execution_count": 35,
      "outputs": [
        {
          "output_type": "stream",
          "name": "stdout",
          "text": [
            "['Apple', 'Papaya', 'Banana', 'Mango', 'Orange', 'Kiwi']\n"
          ]
        }
      ]
    },
    {
      "cell_type": "markdown",
      "source": [
        "4. **Iterating through elements:**\n",
        "   - Use a `for` loop to print each fruit in the list, followed by its length.\n",
        "   - Use a `while` loop to print each even number in a list in reverse order."
      ],
      "metadata": {
        "id": "jehDw6vXIO-q"
      },
      "id": "jehDw6vXIO-q"
    },
    {
      "cell_type": "code",
      "source": [
        "for i in list_of_fruites:\n",
        "  print(i, len(i))"
      ],
      "metadata": {
        "colab": {
          "base_uri": "https://localhost:8080/"
        },
        "id": "wuoRsmuqIQ1v",
        "outputId": "d497f860-65ff-4c44-9336-f3fbd9ccfc8f"
      },
      "id": "wuoRsmuqIQ1v",
      "execution_count": 39,
      "outputs": [
        {
          "output_type": "stream",
          "name": "stdout",
          "text": [
            "Apple 5\n",
            "Papaya 6\n",
            "Banana 6\n",
            "Mango 5\n",
            "Orange 6\n",
            "Kiwi 4\n"
          ]
        }
      ]
    },
    {
      "cell_type": "code",
      "source": [
        "i = len(list_of_even_nums) - 1\n",
        "while(i>=0):\n",
        "  print(list_of_even_nums[i])\n",
        "  i = i - 1"
      ],
      "metadata": {
        "colab": {
          "base_uri": "https://localhost:8080/"
        },
        "id": "0HWj56DDJU0y",
        "outputId": "c494db57-9884-461c-bc61-7bcd1aed7857"
      },
      "id": "0HWj56DDJU0y",
      "execution_count": 41,
      "outputs": [
        {
          "output_type": "stream",
          "name": "stdout",
          "text": [
            "38\n",
            "36\n",
            "34\n",
            "32\n",
            "30\n",
            "28\n",
            "26\n",
            "24\n",
            "22\n",
            "20\n"
          ]
        }
      ]
    },
    {
      "cell_type": "markdown",
      "source": [
        "5. **List operations:**\n",
        "   - Sort the list of fruits alphabetically.\n",
        "   - Find the index of the first occurrence of a specific fruit in the list.\n",
        "   - Create a new list containing only the fruits that start with the letter \"A\"."
      ],
      "metadata": {
        "id": "xPrlH8XCJc7X"
      },
      "id": "xPrlH8XCJc7X"
    },
    {
      "cell_type": "code",
      "execution_count": 53,
      "id": "6922256f-1014-4d7f-885d-1b2131468c03",
      "metadata": {
        "colab": {
          "base_uri": "https://localhost:8080/"
        },
        "id": "6922256f-1014-4d7f-885d-1b2131468c03",
        "outputId": "ee961516-febf-4988-f463-30cfaa62e35b"
      },
      "outputs": [
        {
          "output_type": "stream",
          "name": "stdout",
          "text": [
            "['Apple', 'Banana', 'Kiwi', 'Mango', 'Orange', 'Papaya']\n"
          ]
        }
      ],
      "source": [
        "print(sorted(list_of_fruites))"
      ]
    },
    {
      "cell_type": "code",
      "source": [
        "specific_fruit = \"Kiwi\"\n",
        "\n",
        "if specific_fruit in list_of_fruites:\n",
        "    index = list_of_fruites.index(specific_fruit)\n",
        "    print(\"The first occurrence of\", specific_fruit, \"is at index\", index)\n",
        "else:\n",
        "    print(specific_fruit, \"is not in the list of fruits.\")"
      ],
      "metadata": {
        "colab": {
          "base_uri": "https://localhost:8080/"
        },
        "id": "SYGlmloIP4T0",
        "outputId": "d2ac1fa2-d4fb-4c38-b730-88895f0e6d1c"
      },
      "id": "SYGlmloIP4T0",
      "execution_count": 57,
      "outputs": [
        {
          "output_type": "stream",
          "name": "stdout",
          "text": [
            "The first occurrence of Kiwi is at index 2\n"
          ]
        }
      ]
    },
    {
      "cell_type": "code",
      "source": [
        "fruitw_A = [fruit for fruit in list_of_fruites if fruit.startswith(\"A\")]\n",
        "\n",
        "\n",
        "print(\"Fruits that start with 'A':\", fruitw_A)"
      ],
      "metadata": {
        "colab": {
          "base_uri": "https://localhost:8080/"
        },
        "id": "PZZeWxUGQtCr",
        "outputId": "8f3a7581-f824-4cde-d7d7-5015e27a937b"
      },
      "id": "PZZeWxUGQtCr",
      "execution_count": 60,
      "outputs": [
        {
          "output_type": "stream",
          "name": "stdout",
          "text": [
            "Fruits that start with 'A': ['Apple']\n"
          ]
        }
      ]
    },
    {
      "cell_type": "markdown",
      "id": "b00614b1-ed72-4928-a8ef-a494ea567f00",
      "metadata": {
        "id": "b00614b1-ed72-4928-a8ef-a494ea567f00"
      },
      "source": [
        "1. **Creating a tuple:**\n",
        "   - Create a tuple containing a person's name, age, and city.\n",
        "   - Create a tuple of coordinates (x, y) using tuple packing.\n",
        "\n",
        "2. **Accessing elements:**\n",
        "   - Access and print the person's age from the tuple.\n",
        "   - Print the x-coordinate from the tuple of coordinates.\n",
        "\n",
        "3. **Iterating through elements:**\n",
        "   - Use a `for` loop to print each element in the tuple, including its index.\n",
        "\n",
        "4. **Tuple immutability:**\n",
        "   - Demonstrate that you cannot modify elements of a tuple directly."
      ]
    },
    {
      "cell_type": "code",
      "source": [
        "person_info = (\"Getasew\", 30, \"Gondar\")"
      ],
      "metadata": {
        "id": "AbS0xvL1RfOd"
      },
      "id": "AbS0xvL1RfOd",
      "execution_count": 72,
      "outputs": []
    },
    {
      "cell_type": "code",
      "source": [
        "cord = ('Getasew', 29)"
      ],
      "metadata": {
        "id": "PlR1HyBcSFfM"
      },
      "id": "PlR1HyBcSFfM",
      "execution_count": 66,
      "outputs": []
    },
    {
      "cell_type": "code",
      "source": [
        "person_info[1]"
      ],
      "metadata": {
        "colab": {
          "base_uri": "https://localhost:8080/"
        },
        "id": "ofmzScLcSb_t",
        "outputId": "e22f3eb7-b9b2-47c0-9702-cc31e7d5d1d7"
      },
      "id": "ofmzScLcSb_t",
      "execution_count": 68,
      "outputs": [
        {
          "output_type": "execute_result",
          "data": {
            "text/plain": [
              "30"
            ]
          },
          "metadata": {},
          "execution_count": 68
        }
      ]
    },
    {
      "cell_type": "code",
      "source": [
        "print(cord[0])"
      ],
      "metadata": {
        "colab": {
          "base_uri": "https://localhost:8080/"
        },
        "id": "Noas0TOPSnCt",
        "outputId": "2832af15-cbc6-4d79-951f-77a341354128"
      },
      "id": "Noas0TOPSnCt",
      "execution_count": 69,
      "outputs": [
        {
          "output_type": "stream",
          "name": "stdout",
          "text": [
            "Getasew\n"
          ]
        }
      ]
    },
    {
      "cell_type": "code",
      "source": [
        "for i, e in enumerate(person_info):\n",
        "  print(f\"{i} {e}\")"
      ],
      "metadata": {
        "colab": {
          "base_uri": "https://localhost:8080/"
        },
        "id": "Yf6nZM_zSvRA",
        "outputId": "967e5472-01bb-42d5-ef1a-751153fdbe5e"
      },
      "id": "Yf6nZM_zSvRA",
      "execution_count": 71,
      "outputs": [
        {
          "output_type": "stream",
          "name": "stdout",
          "text": [
            "0 Getasew\n",
            "1 30\n",
            "2 Gondar\n"
          ]
        }
      ]
    },
    {
      "cell_type": "code",
      "source": [
        "try:\n",
        "    person_info[0] = \"Awoke\"\n",
        "except TypeError as e:\n",
        "    print(\"TypeError:\", e)"
      ],
      "metadata": {
        "colab": {
          "base_uri": "https://localhost:8080/"
        },
        "id": "yK5GmgfsUH5x",
        "outputId": "ee019bba-e0cf-41dd-d6ba-41bd2a021099"
      },
      "id": "yK5GmgfsUH5x",
      "execution_count": 73,
      "outputs": [
        {
          "output_type": "stream",
          "name": "stdout",
          "text": [
            "TypeError: 'tuple' object does not support item assignment\n"
          ]
        }
      ]
    },
    {
      "cell_type": "markdown",
      "id": "f211353f-4bd8-4c9e-893f-d818c4599917",
      "metadata": {
        "id": "f211353f-4bd8-4c9e-893f-d818c4599917"
      },
      "source": [
        "1. **Creating a dictionary:**\n",
        "   - Create a dictionary to store information about a book (title, author, year).\n",
        "   - Create a dictionary to store the prices of different fruits.\n",
        "\n",
        "2. **Accessing and adding items:**\n",
        "   - Access and print the author of the book.\n",
        "   - Add a new item to the dictionary with the book's ISBN number.\n",
        "\n",
        "3. **Iterating through items:**\n",
        "   - Use a `for` loop to print each key-value pair in the dictionary.\n",
        "   - Print only the keys in the dictionary.\n",
        "   - Print only the values in the dictionary.\n",
        "\n",
        "4. **Dictionary operations:**\n",
        "   - Check if a specific key exists in the dictionary.\n",
        "   - Get a list of all keys in the dictionary.\n",
        "   - Get a list of all values in the dictionary.\n",
        "   - Remove an item from the dictionary by its key."
      ]
    },
    {
      "cell_type": "code",
      "source": [
        "book_info_dic = {\"title\": \"Python Basics\",\"author\": \"Mark Lutz\", \"year\": 2009}\n",
        "price_fruit = {'Banana': 50, 'Apple': 150, 'Orange': 100}"
      ],
      "metadata": {
        "id": "Hot-ShEuMFdW"
      },
      "id": "Hot-ShEuMFdW",
      "execution_count": 46,
      "outputs": []
    },
    {
      "cell_type": "code",
      "source": [
        "print(book_info_dic['author'])\n",
        "book_info_dic['ISBN number'] = '0-061-96436-0'"
      ],
      "metadata": {
        "colab": {
          "base_uri": "https://localhost:8080/"
        },
        "id": "D-VyaNhbNXLM",
        "outputId": "bd4d38c9-bee5-4aaa-db37-5f3922c62be8"
      },
      "id": "D-VyaNhbNXLM",
      "execution_count": 49,
      "outputs": [
        {
          "output_type": "stream",
          "name": "stdout",
          "text": [
            "Mark Lutz\n"
          ]
        }
      ]
    },
    {
      "cell_type": "code",
      "source": [
        "for i, j in book_info_dic.items():\n",
        "    print(f\"{i}: {j}\")"
      ],
      "metadata": {
        "colab": {
          "base_uri": "https://localhost:8080/"
        },
        "id": "_7v_ejstOOf7",
        "outputId": "da2acf32-7d7d-4bd5-c946-d980184c2015"
      },
      "id": "_7v_ejstOOf7",
      "execution_count": 50,
      "outputs": [
        {
          "output_type": "stream",
          "name": "stdout",
          "text": [
            "title: Python Basics\n",
            "author: Mark Lutz\n",
            "year: 2009\n",
            "ISBN number: 0-061-96436-0\n"
          ]
        }
      ]
    },
    {
      "cell_type": "code",
      "source": [
        "for i, j in book_info_dic.items():\n",
        "    print(f\"{i}\")"
      ],
      "metadata": {
        "colab": {
          "base_uri": "https://localhost:8080/"
        },
        "id": "m4xcb4D4OX4o",
        "outputId": "bd6ff4e7-8070-4cae-88f2-f950725e599a"
      },
      "id": "m4xcb4D4OX4o",
      "execution_count": 51,
      "outputs": [
        {
          "output_type": "stream",
          "name": "stdout",
          "text": [
            "title\n",
            "author\n",
            "year\n",
            "ISBN number\n"
          ]
        }
      ]
    },
    {
      "cell_type": "code",
      "source": [
        "for i, j in book_info_dic.items():\n",
        "    print(f\" {j}\")"
      ],
      "metadata": {
        "colab": {
          "base_uri": "https://localhost:8080/"
        },
        "id": "hNb87gVKOcor",
        "outputId": "0583a559-39d8-4712-9606-1d1431896486"
      },
      "id": "hNb87gVKOcor",
      "execution_count": 52,
      "outputs": [
        {
          "output_type": "stream",
          "name": "stdout",
          "text": [
            " Python Basics\n",
            " Mark Lutz\n",
            " 2009\n",
            " 0-061-96436-0\n"
          ]
        }
      ]
    },
    {
      "cell_type": "code",
      "source": [
        "key = \"authors\"\n",
        "if key in book_info_dic:\n",
        "    print(f\"The key '{key}' is exists in the dictionary.\")\n",
        "else:\n",
        "    print(f\"The key '{key}' is does not exist in the dictionary.\")"
      ],
      "metadata": {
        "colab": {
          "base_uri": "https://localhost:8080/"
        },
        "id": "L4jTqPQHPLu0",
        "outputId": "401e27ee-9455-4dad-beec-768a5503649b"
      },
      "id": "L4jTqPQHPLu0",
      "execution_count": 55,
      "outputs": [
        {
          "output_type": "stream",
          "name": "stdout",
          "text": [
            "The key 'authors' is does not exist in the dictionary.\n"
          ]
        }
      ]
    },
    {
      "cell_type": "code",
      "source": [
        "print(list(book_info_dic.keys()))"
      ],
      "metadata": {
        "colab": {
          "base_uri": "https://localhost:8080/"
        },
        "id": "COGNjid0QP3L",
        "outputId": "c15ad70a-ced9-4838-89aa-e54c2edb3b7e"
      },
      "id": "COGNjid0QP3L",
      "execution_count": 58,
      "outputs": [
        {
          "output_type": "stream",
          "name": "stdout",
          "text": [
            "['title', 'author', 'year', 'ISBN number']\n"
          ]
        }
      ]
    },
    {
      "cell_type": "code",
      "source": [
        "print(list(book_info_dic.values()))"
      ],
      "metadata": {
        "colab": {
          "base_uri": "https://localhost:8080/"
        },
        "id": "F_oqptoaQVCb",
        "outputId": "60f22184-46f7-49cb-f982-4c8af3f0ac14"
      },
      "id": "F_oqptoaQVCb",
      "execution_count": 59,
      "outputs": [
        {
          "output_type": "stream",
          "name": "stdout",
          "text": [
            "['Python Basics', 'Mark Lutz', 2009, '0-061-96436-0']\n"
          ]
        }
      ]
    },
    {
      "cell_type": "code",
      "source": [
        "key_to_remove = \"ISBN number\"\n",
        "if key_to_remove in book_info_dic:\n",
        "    removed_value = book_info_dic.pop(key_to_remove)\n",
        "else:\n",
        "    print(f\"The key '{key_to_remove}' does not exist in the dictionary.\")\n",
        "\n",
        "# Print the updated dictionary\n",
        "print(\"Updated dictionary:\", book_info_dic)"
      ],
      "metadata": {
        "colab": {
          "base_uri": "https://localhost:8080/"
        },
        "id": "OYVjoqDFRGF6",
        "outputId": "246cd24b-1fdd-471d-8dc1-a911f471cb3f"
      },
      "id": "OYVjoqDFRGF6",
      "execution_count": 62,
      "outputs": [
        {
          "output_type": "stream",
          "name": "stdout",
          "text": [
            "The key 'ISBN number' does not exist in the dictionary.\n",
            "Updated dictionary: {'title': 'Python Basics', 'author': 'Mark Lutz', 'year': 2009}\n"
          ]
        }
      ]
    },
    {
      "cell_type": "markdown",
      "id": "24aea91d-1480-4e1f-b66e-90c54be004fc",
      "metadata": {
        "id": "24aea91d-1480-4e1f-b66e-90c54be004fc"
      },
      "source": [
        "## Functions\n",
        "\n",
        "1.\tWrite a function that prints Hello plus a name and greets with time. But name argument should have a default value “World” and time show also have a default value, “morning”. The function should be able to take values to replace name and time.\n",
        "2.\tWrite another function to prints out even numbers from the list of values passed as an argument.\n"
      ]
    },
    {
      "cell_type": "code",
      "execution_count": 43,
      "id": "62f4f1d5-9c02-4714-926d-cbdff41b3724",
      "metadata": {
        "colab": {
          "base_uri": "https://localhost:8080/"
        },
        "id": "62f4f1d5-9c02-4714-926d-cbdff41b3724",
        "outputId": "3c2155d9-70e6-40ec-8185-b448b159b481"
      },
      "outputs": [
        {
          "output_type": "stream",
          "name": "stdout",
          "text": [
            "Hello World Afternoon\n",
            "Hello Getasew Amsalu Abera Good morning\n"
          ]
        }
      ],
      "source": [
        "def hello_greeting(name = 'World', greeting = 'Afternoon'):\n",
        "  print(\"Hello\", name, greeting)\n",
        "hello_greeting()\n",
        "hello_greeting(\"Getasew Amsalu Abera\", \"Good morning\")"
      ]
    },
    {
      "cell_type": "code",
      "source": [
        "def even_num_fun(even_num):\n",
        "  print(even_num)\n",
        "even_num_fun(list_of_even_nums)"
      ],
      "metadata": {
        "colab": {
          "base_uri": "https://localhost:8080/"
        },
        "id": "q7610xJtLnkJ",
        "outputId": "7df15e37-c3f0-47a9-c153-0e1ddef26685"
      },
      "id": "q7610xJtLnkJ",
      "execution_count": 44,
      "outputs": [
        {
          "output_type": "stream",
          "name": "stdout",
          "text": [
            "[20, 22, 24, 26, 28, 30, 32, 34, 36, 38]\n"
          ]
        }
      ]
    }
  ],
  "metadata": {
    "kernelspec": {
      "display_name": "Python 3 (ipykernel)",
      "language": "python",
      "name": "python3"
    },
    "language_info": {
      "codemirror_mode": {
        "name": "ipython",
        "version": 3
      },
      "file_extension": ".py",
      "mimetype": "text/x-python",
      "name": "python",
      "nbconvert_exporter": "python",
      "pygments_lexer": "ipython3",
      "version": "3.11.7"
    },
    "colab": {
      "provenance": [],
      "include_colab_link": true
    }
  },
  "nbformat": 4,
  "nbformat_minor": 5
}
{
  "nbformat": 4,
  "nbformat_minor": 0,
  "metadata": {
    "colab": {
      "provenance": [],
      "authorship_tag": "ABX9TyMGxwb/07uQPws7ANpyJXG4",
      "include_colab_link": true
    },
    "kernelspec": {
      "name": "python3",
      "display_name": "Python 3"
    },
    "language_info": {
      "name": "python"
    }
  },
  "cells": [
    {
      "cell_type": "markdown",
      "metadata": {
        "id": "view-in-github",
        "colab_type": "text"
      },
      "source": [
        "<a href=\"https://colab.research.google.com/github/amsalugetasew/OSIRI_File_Repo/blob/main/Assignment_week_1_session_3_by_Getasew.ipynb\" target=\"_parent\"><img src=\"https://colab.research.google.com/assets/colab-badge.svg\" alt=\"Open In Colab\"/></a>"
      ]
    },
    {
      "cell_type": "markdown",
      "source": [
        "### Take home assignment week 1 session 3\n",
        "#### Python Control Flow Practice\n",
        "#### Objective: Demonstrate your understanding of Python control flow statements, including if statements and loops.\n",
        "\n",
        "### Problem 1: Number Classifier\n",
        "#### Write a Python program that classifies a given integer as positive, negative, or zero.\n",
        "### Requirements:\n",
        "1.\tTake input from the user for an integer.\n",
        "2.\tUse an if-elif-else statement to classify the number.\n",
        "3.\tDisplay a message indicating whether the number is positive, negative, or zero.\n",
        "\n",
        "### Problem 2: Guess the Number Game\n",
        "#### Write a simple number-guessing game in Python.\n",
        "### Requirements:\n",
        "1.\tGenerate a random number between 1 and 20 (inclusive).\n",
        "2.\tAllow the user to guess the number.\n",
        "3.\tUse a while loop to continue prompting the user until they guess the correct number.\n",
        "4.\tProvide feedback to the user if their guess is too high or too low.\n",
        "5.\tPrint a congratulatory message when the correct number is guessed.\n",
        "\n",
        "### Problem 3: Multiplication Table\n",
        "Write a Python program that generates the multiplication table for a given number.\n",
        "Requirements:\n",
        "1.\tTake input from the user for the number for which the multiplication table should be generated.\n",
        "2.\tUse a for loop to calculate and display the multiplication table for that number up to 10.\n",
        "Submission Guidelines:\n",
        "1.\tEnsure your code is well-commented and follows good coding practices.\n",
        "2.\tProvide meaningful variable names and include comments where necessary.\n",
        "3.\tSubmit your Python script (.py file) on the specified submission platform.\n",
        "Grading Criteria:\n",
        "•\tCorrectness: The program should produce the correct output for various inputs.\n",
        "•\tClarity: Code should be well-organized and easy to understand.\n",
        "•\tUse of Control Flow: Proper use of if statements and loops.\n",
        "•\tUser Interaction: The program should effectively engage the user and provide meaningful feedback.\n",
        "Note: You are encouraged to explore additional features or functionalities to enhance your programs. Be creative and have fun with the assignment!\n"
      ],
      "metadata": {
        "id": "EDxOhPqdWY-X"
      }
    },
    {
      "cell_type": "markdown",
      "source": [
        "# **Take input from the user for an intege**"
      ],
      "metadata": {
        "id": "SR4tMeBkWDx-"
      }
    },
    {
      "cell_type": "markdown",
      "source": [
        "# **Use an if-elif-else statement to classify the number.**"
      ],
      "metadata": {
        "id": "l9xwo4btWMRX"
      }
    },
    {
      "cell_type": "code",
      "execution_count": 10,
      "metadata": {
        "colab": {
          "base_uri": "https://localhost:8080/"
        },
        "id": "DlC-EaQiWC9L",
        "outputId": "be0dc427-538a-4791-bcbf-c0ef502d05e1"
      },
      "outputs": [
        {
          "output_type": "stream",
          "name": "stdout",
          "text": [
            "Please enter an integer: 5\n",
            "Positive\n"
          ]
        }
      ],
      "source": [
        "int_number_from_user = input(\"Please enter an integer: \")\n",
        "int_number_from_user = int(int_number_from_user)\n",
        "if int_number_from_user == 0:\n",
        "  print('Zero')\n",
        "elif int_number_from_user > 0:\n",
        "  print('Positive')\n",
        "else:\n",
        "  print(\"Negative\")"
      ]
    },
    {
      "cell_type": "markdown",
      "source": [
        "1.\tGenerate a random number between 1 and 20 (inclusive).\n",
        "2.\tAllow the user to guess the number.\n",
        "3.\tUse a while loop to continue prompting the user until they guess the correct number.\n",
        "4.\tProvide feedback to the user if their guess is too high or too low.\n",
        "5.\tPrint a congratulatory message when the correct number is guessed."
      ],
      "metadata": {
        "id": "0B1AKUNeXzJu"
      }
    },
    {
      "cell_type": "code",
      "source": [
        "import random\n",
        "random_number = random.randint(1, 20)\n",
        "correct_guss = False\n",
        "while not correct_guss:\n",
        "    guess = int(input(\"Guess the number between 1 and 20: \"))\n",
        "    if guess == random_number:\n",
        "        print(\"Congratulations! You guessed the correct number:\", random_number)\n",
        "        guessed_correctly = True\n",
        "        break;\n",
        "    else:\n",
        "        print(\"Sorry, try again!\")"
      ],
      "metadata": {
        "colab": {
          "base_uri": "https://localhost:8080/"
        },
        "id": "r16iB72ZaKp1",
        "outputId": "ba2718cd-61dd-4029-a9cf-71069b1c5f99"
      },
      "execution_count": 21,
      "outputs": [
        {
          "output_type": "stream",
          "name": "stdout",
          "text": [
            "Guess the number between 1 and 20: 3\n",
            "Sorry, try again!\n",
            "Guess the number between 1 and 20: 1\n",
            "Congratulations! You guessed the correct number: 1\n"
          ]
        }
      ]
    },
    {
      "cell_type": "markdown",
      "source": [
        "1.\tTake input from the user for the number for which the multiplication table should be generated.\n",
        "2.\tUse a for loop to calculate and display the multiplication table for that number up to 10.\n",
        "Submission Guidelines:\n",
        "1.\tEnsure your code is well-commented and follows good coding practices.\n",
        "2.\tProvide meaningful variable names and include comments where necessary.\n",
        "3.\tSubmit your Python script (.py file) on the specified submission platform.\n",
        "Grading Criteria:\n",
        "•\tCorrectness: The program should produce the correct output for various inputs.\n",
        "•\tClarity: Code should be well-organized and easy to understand.\n",
        "•\tUse of Control Flow: Proper use of if statements and loops.\n",
        "•\tUser Interaction: The program should effectively engage the user and provide meaningful feedback.\n",
        "Note: You are encouraged to explore additional features or functionalities to enhance your programs. Be creative and have fun with the assignment!"
      ],
      "metadata": {
        "id": "6SQHL5RCZDRS"
      }
    },
    {
      "cell_type": "code",
      "source": [
        "# Take input from the user for the number to see the multiplication table\n",
        "num = int(input(\"Take input from the user: \"))\n",
        "\n",
        "# Calculate and display the multiplication table for that number up to 10\n",
        "print(f\"Multiplication table for {num}:\")\n",
        "for i in range(1, 11):\n",
        "    print(f\"{num} x {i} = {num * i}\")"
      ],
      "metadata": {
        "colab": {
          "base_uri": "https://localhost:8080/"
        },
        "id": "eJbY7vqLYTLj",
        "outputId": "1cd3eb98-a8f2-41bf-bf0f-ef112a281a60"
      },
      "execution_count": 24,
      "outputs": [
        {
          "output_type": "stream",
          "name": "stdout",
          "text": [
            "Take input from the user: 5\n",
            "Multiplication table for 5:\n",
            "5 x 1 = 5\n",
            "5 x 2 = 10\n",
            "5 x 3 = 15\n",
            "5 x 4 = 20\n",
            "5 x 5 = 25\n",
            "5 x 6 = 30\n",
            "5 x 7 = 35\n",
            "5 x 8 = 40\n",
            "5 x 9 = 45\n",
            "5 x 10 = 50\n"
          ]
        }
      ]
    }
  ]
}